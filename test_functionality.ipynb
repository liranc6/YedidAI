{
 "cells": [
  {
   "cell_type": "code",
   "execution_count": null,
   "metadata": {},
   "outputs": [],
   "source": [
    "from data import SemanticSearchEngine"
   ]
  },
  {
   "cell_type": "code",
   "execution_count": null,
   "metadata": {},
   "outputs": [],
   "source": [
    "engine = SemanticSearchEngine()\n"
   ]
  },
  {
   "cell_type": "code",
   "execution_count": null,
   "metadata": {},
   "outputs": [],
   "source": [
    "search_engine = SemanticSearchEngine()\n",
    "    \n",
    "data_file = 'data/mok.json'\n",
    "embeddings_file = 'data/embeded_data.json'\n",
    "\n",
    "if not os.path.exists(embeddings_file):\n",
    "    # Load data and create embeddings if not already done\n",
    "    search_engine.load_data(data_file)\n",
    "    search_engine.embed_documents()\n",
    "    search_engine.save_embeddings(embeddings_file)\n",
    "else:\n",
    "    # Load precomputed embeddings\n",
    "    search_engine.load_embeddings(embeddings_file)\n",
    "while (True):\n",
    "    query = input(\"Enter query: \")\n",
    "    search_engine.run_search(query, top_k=5)"
   ]
  }
 ],
 "metadata": {
  "language_info": {
   "name": "python"
  }
 },
 "nbformat": 4,
 "nbformat_minor": 2
}
