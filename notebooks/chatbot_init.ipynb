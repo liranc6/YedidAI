{
 "cells": [
  {
   "cell_type": "code",
   "execution_count": 1,
   "id": "initial_id",
   "metadata": {
    "collapsed": true,
    "ExecuteTime": {
     "end_time": "2024-06-27T07:10:21.553802900Z",
     "start_time": "2024-06-27T07:10:13.666902100Z"
    }
   },
   "outputs": [
    {
     "data": {
      "text/plain": "True"
     },
     "execution_count": 1,
     "metadata": {},
     "output_type": "execute_result"
    }
   ],
   "source": [
    "import ast  # for converting embeddings saved as strings back to arrays\n",
    "from openai import OpenAI # for calling the OpenAI API\n",
    "import pandas as pd  # for storing text and embeddings data\n",
    "import tiktoken  # for counting tokens\n",
    "import os # for getting API token from env variable OPENAI_API_KEY\n",
    "from scipy import spatial  # for calculating vector similarities for search\n",
    "from dotenv import load_dotenv\n",
    "load_dotenv()\n"
   ]
  },
  {
   "cell_type": "code",
   "outputs": [],
   "source": [
    "client = OpenAI(api_key=os.environ.get(\"OPENAI_API_KEY\"))"
   ],
   "metadata": {
    "collapsed": false
   },
   "id": "6abfbee7b8d04ef3"
  },
  {
   "cell_type": "code",
   "outputs": [],
   "source": [
    "# an example question about the 2022 Olympics\n",
    "SYSTEM_MESSAGE = 'You answer questions about the 2022 Winter Olympics.'\n",
    "USER_QUERY = 'Which athletes won the gold medal in curling at the 2022 Winter Olympics?'"
   ],
   "metadata": {
    "collapsed": false
   },
   "id": "956ce2621c3a04f4"
  },
  {
   "cell_type": "code",
   "outputs": [],
   "source": [
    "response = client.chat.completions.create(\n",
    "    messages=[\n",
    "        {'role': 'system', 'content': SYSTEM_MESSAGE},\n",
    "        {'role': 'user', 'content': USER_QUERY},\n",
    "    ],\n",
    "    model=os.environ.get(\"GPT_MODEL\"),\n",
    "    temperature=0,\n",
    ")\n"
   ],
   "metadata": {
    "collapsed": false
   },
   "id": "ff299d035da05a8a"
  },
  {
   "cell_type": "code",
   "outputs": [],
   "source": [
    "print(response.choices[0].message.content)"
   ],
   "metadata": {
    "collapsed": false
   },
   "id": "f2e2921ae9f8b78d"
  }
 ],
 "metadata": {
  "kernelspec": {
   "display_name": "Python 3",
   "language": "python",
   "name": "python3"
  },
  "language_info": {
   "codemirror_mode": {
    "name": "ipython",
    "version": 2
   },
   "file_extension": ".py",
   "mimetype": "text/x-python",
   "name": "python",
   "nbconvert_exporter": "python",
   "pygments_lexer": "ipython2",
   "version": "2.7.6"
  }
 },
 "nbformat": 4,
 "nbformat_minor": 5
}
