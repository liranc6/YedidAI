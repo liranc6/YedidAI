{
 "cells": [
  {
   "cell_type": "code",
   "execution_count": 1,
   "metadata": {},
   "outputs": [
    {
     "name": "stderr",
     "output_type": "stream",
     "text": [
      "/home/liranc6/miniconda3/envs/hackai/lib/python3.11/site-packages/tqdm/auto.py:21: TqdmWarning: IProgress not found. Please update jupyter and ipywidgets. See https://ipywidgets.readthedocs.io/en/stable/user_install.html\n",
      "  from .autonotebook import tqdm as notebook_tqdm\n"
     ]
    }
   ],
   "source": [
    "import gradio as gr\n"
   ]
  },
  {
   "cell_type": "code",
   "execution_count": 2,
   "metadata": {},
   "outputs": [],
   "source": [
    "import openai\n",
    "\n",
    "def chatbot_response(user_input):\n",
    "    openai.api_key = 'your-free-tier-api-key'\n",
    "    response = openai.Completion.create(\n",
    "        engine=\"text-davinci-003\",\n",
    "        prompt=user_input,\n",
    "        max_tokens=150\n",
    "    )\n",
    "    return response.choices[0].text.strip()\n"
   ]
  },
  {
   "cell_type": "markdown",
   "metadata": {},
   "source": [
    "## Create the Gradio Interface"
   ]
  },
  {
   "cell_type": "code",
   "execution_count": null,
   "metadata": {},
   "outputs": [],
   "source": [
    "# Define the input and output components\n",
    "input_text = gr.Textbox(lines=2, placeholder=\"Enter your query here...\")\n",
    "output_text = gr.Textbox()\n",
    "\n",
    "# Create the Gradio interface\n",
    "interface = gr.Interface(\n",
    "    fn=chatbot_response,\n",
    "    inputs=input_text,\n",
    "    outputs=output_text,\n",
    "    title=\"Personal Advisor Chatbot\",\n",
    "    description=\"An AI-based tool to help you determine your eligible rights and compensations.\",\n",
    "    live=True\n",
    ")\n"
   ]
  },
  {
   "cell_type": "code",
   "execution_count": 4,
   "metadata": {},
   "outputs": [
    {
     "name": "stderr",
     "output_type": "stream",
     "text": [
      "/home/liranc6/miniconda3/envs/hackai/lib/python3.11/site-packages/gradio/utils.py:1001: UserWarning: Expected 1 arguments for function <function chatbot_response at 0x7fca5f6d5120>, received 2.\n",
      "  warnings.warn(\n",
      "/home/liranc6/miniconda3/envs/hackai/lib/python3.11/site-packages/gradio/utils.py:1009: UserWarning: Expected maximum 1 arguments for function <function chatbot_response at 0x7fca5f6d5120>, received 2.\n",
      "  warnings.warn(\n"
     ]
    }
   ],
   "source": [
    "# Define additional input component\n",
    "dropdown = gr.Dropdown(choices=[\"Option 1\", \"Option 2\", \"Option 3\"], label=\"Choose an option\")\n",
    "\n",
    "# Update the interface with the new input\n",
    "interface = gr.Interface(\n",
    "    fn=chatbot_response,\n",
    "    inputs=[input_text, dropdown],\n",
    "    outputs=output_text,\n",
    "    title=\"Personal Advisor Chatbot\",\n",
    "    description=\"An AI-based tool to help you determine your eligible rights and compensations.\",\n",
    "    live=True\n",
    ")\n",
    "\n",
    "# Update the interface with the new input\n",
    "interface = gr.Interface(\n",
    "    fn=chatbot_response,\n",
    "    inputs=[input_text, dropdown],\n",
    "    outputs=output_text,\n",
    "    title=\"Personal Advisor Chatbot\",\n",
    "    description=\"An AI-based tool to help you determine your eligible rights and compensations.\",\n",
    "    live=True\n",
    ")\n"
   ]
  },
  {
   "cell_type": "code",
   "execution_count": 5,
   "metadata": {},
   "outputs": [
    {
     "name": "stdout",
     "output_type": "stream",
     "text": [
      "Running on local URL:  http://127.0.0.1:7860\n",
      "\n",
      "Could not create share link. Please check your internet connection or our status page: https://status.gradio.app.\n"
     ]
    },
    {
     "name": "stderr",
     "output_type": "stream",
     "text": [
      "2024/06/27 10:59:25 [W] [service.go:132] login to server failed: dial tcp 44.237.78.176:7000: i/o timeout\n"
     ]
    },
    {
     "data": {
      "text/html": [
       "<div><iframe src=\"http://127.0.0.1:7860/\" width=\"100%\" height=\"500\" allow=\"autoplay; camera; microphone; clipboard-read; clipboard-write;\" frameborder=\"0\" allowfullscreen></iframe></div>"
      ],
      "text/plain": [
       "<IPython.core.display.HTML object>"
      ]
     },
     "metadata": {},
     "output_type": "display_data"
    },
    {
     "data": {
      "text/plain": []
     },
     "execution_count": 5,
     "metadata": {},
     "output_type": "execute_result"
    }
   ],
   "source": [
    "# Launch the interface\n",
    "interface.launch(share=True)"
   ]
  },
  {
   "cell_type": "code",
   "execution_count": null,
   "metadata": {},
   "outputs": [],
   "source": []
  }
 ],
 "metadata": {
  "kernelspec": {
   "display_name": "hackai",
   "language": "python",
   "name": "python3"
  },
  "language_info": {
   "codemirror_mode": {
    "name": "ipython",
    "version": 3
   },
   "file_extension": ".py",
   "mimetype": "text/x-python",
   "name": "python",
   "nbconvert_exporter": "python",
   "pygments_lexer": "ipython3",
   "version": "3.11.4"
  }
 },
 "nbformat": 4,
 "nbformat_minor": 2
}
